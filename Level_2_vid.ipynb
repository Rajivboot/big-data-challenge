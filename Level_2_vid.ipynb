{
  "cells": [
    {
      "cell_type": "markdown",
      "metadata": {
        "id": "view-in-github",
        "colab_type": "text"
      },
      "source": [
        "<a href=\"https://colab.research.google.com/github/Rajivboot/big-data-challenge/blob/main/Level_2_vid.ipynb\" target=\"_parent\"><img src=\"https://colab.research.google.com/assets/colab-badge.svg\" alt=\"Open In Colab\"/></a>"
      ]
    },
    {
      "cell_type": "code",
      "execution_count": 1,
      "metadata": {
        "colab": {
          "base_uri": "https://localhost:8080/"
        },
        "id": "w18jJO00Upos",
        "outputId": "4119d462-54e8-4959-bd2a-5b16ee2d47a5"
      },
      "outputs": [
        {
          "output_type": "stream",
          "name": "stdout",
          "text": [
            "\r0% [Working]\r            \rIgn:1 https://developer.download.nvidia.com/compute/cuda/repos/ubuntu1804/x86_64  InRelease\n",
            "\r0% [Connecting to archive.ubuntu.com (91.189.88.142)] [Connecting to security.u\r                                                                               \rIgn:2 https://developer.download.nvidia.com/compute/machine-learning/repos/ubuntu1804/x86_64  InRelease\n",
            "\r0% [Connecting to archive.ubuntu.com (91.189.88.142)] [Connecting to security.u\r                                                                               \rGet:3 https://cloud.r-project.org/bin/linux/ubuntu bionic-cran40/ InRelease [3,626 B]\n",
            "Hit:4 https://developer.download.nvidia.com/compute/cuda/repos/ubuntu1804/x86_64  Release\n",
            "Hit:5 https://developer.download.nvidia.com/compute/machine-learning/repos/ubuntu1804/x86_64  Release\n",
            "Get:6 http://security.ubuntu.com/ubuntu bionic-security InRelease [88.7 kB]\n",
            "Hit:7 http://archive.ubuntu.com/ubuntu bionic InRelease\n",
            "Hit:8 http://ppa.launchpad.net/c2d4u.team/c2d4u4.0+/ubuntu bionic InRelease\n",
            "Get:9 http://archive.ubuntu.com/ubuntu bionic-updates InRelease [88.7 kB]\n",
            "Hit:11 http://ppa.launchpad.net/cran/libgit2/ubuntu bionic InRelease\n",
            "Hit:12 http://ppa.launchpad.net/deadsnakes/ppa/ubuntu bionic InRelease\n",
            "Get:14 http://archive.ubuntu.com/ubuntu bionic-backports InRelease [74.6 kB]\n",
            "Hit:15 http://ppa.launchpad.net/graphics-drivers/ppa/ubuntu bionic InRelease\n",
            "Get:16 http://security.ubuntu.com/ubuntu bionic-security/universe amd64 Packages [1,478 kB]\n",
            "Get:17 http://security.ubuntu.com/ubuntu bionic-security/main amd64 Packages [2,628 kB]\n",
            "Get:18 http://archive.ubuntu.com/ubuntu bionic-updates/main amd64 Packages [3,067 kB]\n",
            "Get:19 http://archive.ubuntu.com/ubuntu bionic-updates/universe amd64 Packages [2,256 kB]\n",
            "Fetched 9,685 kB in 4s (2,214 kB/s)\n",
            "Reading package lists... Done\n"
          ]
        }
      ],
      "source": [
        "import os\n",
        "# Find the latest version of spark 3.0  from http://www.apache.org/dist/spark/ and enter as the spark version\n",
        "# For example:\n",
        "# spark_version = 'spark-3.0.3'\n",
        "spark_version = 'spark-3.2.1'\n",
        "os.environ['SPARK_VERSION']=spark_version\n",
        "\n",
        "# Install Spark and Java\n",
        "!apt-get update\n",
        "!apt-get install openjdk-8-jdk-headless -qq > /dev/null\n",
        "!wget -q http://www.apache.org/dist/spark/$SPARK_VERSION/$SPARK_VERSION-bin-hadoop2.7.tgz\n",
        "!tar xf $SPARK_VERSION-bin-hadoop2.7.tgz\n",
        "!pip install -q findspark\n",
        "\n",
        "# Set Environment Variables\n",
        "os.environ[\"JAVA_HOME\"] = \"/usr/lib/jvm/java-8-openjdk-amd64\"\n",
        "os.environ[\"SPARK_HOME\"] = f\"/content/{spark_version}-bin-hadoop2.7\"\n",
        "\n",
        "# Start a SparkSession\n",
        "import findspark\n",
        "findspark.init()"
      ]
    },
    {
      "cell_type": "code",
      "execution_count": 2,
      "metadata": {
        "colab": {
          "base_uri": "https://localhost:8080/"
        },
        "id": "wd6kP_UQXa8E",
        "outputId": "edd2d8ec-ff20-4ff7-d776-3e8c2a84d1af"
      },
      "outputs": [
        {
          "output_type": "stream",
          "name": "stdout",
          "text": [
            "--2022-03-11 17:45:53--  https://jdbc.postgresql.org/download/postgresql-42.2.16.jar\n",
            "Resolving jdbc.postgresql.org (jdbc.postgresql.org)... 72.32.157.228, 2001:4800:3e1:1::228\n",
            "Connecting to jdbc.postgresql.org (jdbc.postgresql.org)|72.32.157.228|:443... connected.\n",
            "HTTP request sent, awaiting response... 200 OK\n",
            "Length: 1002883 (979K) [application/java-archive]\n",
            "Saving to: ‘postgresql-42.2.16.jar’\n",
            "\n",
            "postgresql-42.2.16. 100%[===================>] 979.38K  5.60MB/s    in 0.2s    \n",
            "\n",
            "2022-03-11 17:45:54 (5.60 MB/s) - ‘postgresql-42.2.16.jar’ saved [1002883/1002883]\n",
            "\n"
          ]
        }
      ],
      "source": [
        "!wget https://jdbc.postgresql.org/download/postgresql-42.2.16.jar"
      ]
    },
    {
      "cell_type": "code",
      "execution_count": 3,
      "metadata": {
        "id": "72A5lAmCXwZf"
      },
      "outputs": [],
      "source": [
        "from pyspark.sql import SparkSession\n",
        "spark = SparkSession.builder.appName(\"Big-Data-Challenge\").config(\"spark.driver.extraClassPath\",\"/content/postgresql-42.2.16.jar\").getOrCreate()"
      ]
    },
    {
      "cell_type": "code",
      "execution_count": 4,
      "metadata": {
        "colab": {
          "base_uri": "https://localhost:8080/"
        },
        "id": "H04SEQMoYAHN",
        "outputId": "2b0edda9-e6af-48f4-802d-2cf0061d48bc"
      },
      "outputs": [
        {
          "output_type": "stream",
          "name": "stdout",
          "text": [
            "+-----------+-----------+--------------+----------+--------------+--------------------+----------------+-----------+-------------+-----------+----+-----------------+--------------------+--------------------+-----------+\n",
            "|marketplace|customer_id|     review_id|product_id|product_parent|       product_title|product_category|star_rating|helpful_votes|total_votes|vine|verified_purchase|     review_headline|         review_body|review_date|\n",
            "+-----------+-----------+--------------+----------+--------------+--------------------+----------------+-----------+-------------+-----------+----+-----------------+--------------------+--------------------+-----------+\n",
            "|         US|   27288431| R33UPQQUZQEM8|B005T4ND06|     400024643|Yoga for Movement...|       Video DVD|          5|            3|          3|   N|                Y|This was a gift f...|This was a gift f...| 2015-08-31|\n",
            "|         US|   13722556|R3IKTNQQPD9662|B004EPZ070|     685335564|  Something Borrowed|       Video DVD|          5|            0|          0|   N|                Y|          Five Stars| Teats my heart out.| 2015-08-31|\n",
            "|         US|   20381037|R3U27V5QMCP27T|B005S9EKCW|     922008804|Les Miserables (2...|       Video DVD|          5|            1|          1|   N|                Y|        Great movie!|        Great movie.| 2015-08-31|\n",
            "|         US|   24852644|R2TOH2QKNK4IOC|B00FC1ZCB4|     326560548|Alien Anthology a...|       Video DVD|          5|            0|          1|   N|                Y|             Amazing|My husband was so...| 2015-08-31|\n",
            "|         US|   15556113|R2XQG5NJ59UFMY|B002ZG98Z0|     637495038|  Sex and the City 2|       Video DVD|          5|            0|          0|   N|                Y|          Five Stars|   Love this series.| 2015-08-31|\n",
            "|         US|    6132474|R1N1KHBRR4ZTX3|B00X8RONBO|     896602391|When Calls The He...|       Video DVD|          5|            0|          0|   N|                Y|          Five Stars|            love it!| 2015-08-31|\n",
            "|         US|   48049524|R3OM9S0TCBP38K|B000CEXFZG|     115883890|Teen Titans - The...|       Video DVD|          5|            0|          0|   N|                Y|               Great|Better than the c...| 2015-08-31|\n",
            "|         US|    3282516|R1W4S949ZRCTBW|B00ID8H8EW|     977932459|      Generation War|       Video DVD|          5|            0|          0|   N|                Y|          Five Stars|I really emjoyed ...| 2015-08-31|\n",
            "|         US|   51771179|R18JL1NNQAZFV2|B000TGJ8IU|     840084782|Troy  (Director's...|       Video DVD|          5|            0|          0|   N|                Y|          Five Stars|Awesome movie, we...| 2015-08-31|\n",
            "|         US|   31816501|R1LP6PR06OPYUX|B00DPMPTDS|     262144920|Faith Aka the Gre...|       Video DVD|          4|            0|          0|   N|                Y|a beautiful fanta...|...a beautiful fa...| 2015-08-31|\n",
            "|         US|   16164990| RZKBT035JA0UQ|B00X797LUS|     883589001|   Revenge: Season 4|       Video DVD|          5|            1|          2|   N|                Y|  It's a hit with me|I don't usually w...| 2015-08-31|\n",
            "|         US|   33386989|R253N5W74SM7N3|B00C6MXB42|     734735137|YOUNG INDIANA JON...|       Video DVD|          4|            1|          1|   N|                Y|great stuff. I th...|great stuff.  I t...| 2015-08-31|\n",
            "|         US|   45486371|R2D5IFTFPHD3RN|B000EZ9084|     821764517|     Survival Island|       Video DVD|          4|            1|          1|   N|                Y|          Four Stars|           very good| 2015-08-31|\n",
            "|         US|   14006420|R1CECK3H1URK1G|B000CEXFZG|     115883890|Teen Titans - The...|       Video DVD|          5|            0|          0|   N|                Y|          Five Stars|Kids love the DVD...| 2015-08-31|\n",
            "|         US|   23411619|R11MHQRE45204T|B00KXEM6XM|     651533797|     Fargo: Season 1|       Video DVD|          5|            0|          0|   N|                Y|A wonderful cover...|Great news Fargo ...| 2015-08-31|\n",
            "|         US|    3202332| RSX9F068J0GXJ|B0036K9CM8|     231498541|Disney Parks: The...|       Video DVD|          5|            0|          0|   N|                Y|We love Disney an...|We love Disney an...| 2015-08-31|\n",
            "|         US|   32012808|R1TUMFHZBBOWKL|B00G3HOJZ6|     847624020|Young Detective D...|       Video DVD|          5|            0|          0|   N|                Y|Excellent Movie f...|This is a surpris...| 2015-08-31|\n",
            "|         US|   36507765| R8IZ1G1TWGK0E|B00V5E7YR2|     478422254|The Divergent Ser...|       Video DVD|          5|            0|          0|   N|                Y|          Five Stars|          Good movie| 2015-08-31|\n",
            "|         US|   13696097|R1CBN0585B7BI4|B005BUA1JY|     700104332|Barney Miller: Th...|       Video DVD|          5|            0|          1|   N|                Y|          Five Stars|This show is a cl...| 2015-08-31|\n",
            "|         US|    2190805|R2PJOAZ9I3D8O8|B00YCY46VO|     710263340|Inside Out (Blu-r...|       Video DVD|          5|            2|          2|   N|                N|An Instant Master...|Inside Out revolv...| 2015-08-31|\n",
            "+-----------+-----------+--------------+----------+--------------+--------------------+----------------+-----------+-------------+-----------+----+-----------------+--------------------+--------------------+-----------+\n",
            "only showing top 20 rows\n",
            "\n"
          ]
        }
      ],
      "source": [
        "from pyspark import SparkFiles\n",
        "data_url = \"https://s3.amazonaws.com/amazon-reviews-pds/tsv/amazon_reviews_us_Video_DVD_v1_00.tsv.gz\"\n",
        "spark.sparkContext.addFile(data_url)\n",
        "df = spark.read.option(\"encoding\", \"UTF-8\").csv(SparkFiles.get(\"\"), sep=\"\\t\", header=True, inferSchema=True)\n",
        "df.show()"
      ]
    },
    {
      "cell_type": "code",
      "execution_count": 5,
      "metadata": {
        "colab": {
          "base_uri": "https://localhost:8080/"
        },
        "id": "aaJHS88WbONw",
        "outputId": "6003e006-c207-46d2-f57b-d78be2da958d"
      },
      "outputs": [
        {
          "output_type": "execute_result",
          "data": {
            "text/plain": [
              "5069140"
            ]
          },
          "metadata": {},
          "execution_count": 5
        }
      ],
      "source": [
        "df.count()"
      ]
    },
    {
      "cell_type": "code",
      "execution_count": 6,
      "metadata": {
        "id": "7c5XRiZNcR1c"
      },
      "outputs": [],
      "source": [
        "from pyspark.sql.functions import to_date\n"
      ]
    },
    {
      "cell_type": "markdown",
      "metadata": {
        "id": "tHV91gwMcWEB"
      },
      "source": [
        "#CREATE TABLE review_id_table (\n",
        "  review_id TEXT PRIMARY KEY NOT NULL,\n",
        "  customer_id INTEGER,\n",
        "  product_id TEXT,\n",
        "  product_parent INTEGER,\n",
        "  review_date DATE -- this should be in the formate yyyy-mm-dd\n",
        ");\n"
      ]
    },
    {
      "cell_type": "code",
      "execution_count": 7,
      "metadata": {
        "id": "6b_PqDCDcz9s"
      },
      "outputs": [],
      "source": [
        "review_df=df.select([\"review_id\",\"customer_id\",\"product_id\",\"product_parent\",to_date(\"review_date\",\"yyyy-MM-dd\").alias(\"review_date\")])"
      ]
    },
    {
      "cell_type": "code",
      "execution_count": 8,
      "metadata": {
        "colab": {
          "base_uri": "https://localhost:8080/"
        },
        "id": "11qcw4SieNZn",
        "outputId": "75c11de1-8845-4692-b57b-a4e1b956d938"
      },
      "outputs": [
        {
          "output_type": "stream",
          "name": "stdout",
          "text": [
            "+--------------+-----------+----------+--------------+-----------+\n",
            "|     review_id|customer_id|product_id|product_parent|review_date|\n",
            "+--------------+-----------+----------+--------------+-----------+\n",
            "| R33UPQQUZQEM8|   27288431|B005T4ND06|     400024643| 2015-08-31|\n",
            "|R3IKTNQQPD9662|   13722556|B004EPZ070|     685335564| 2015-08-31|\n",
            "|R3U27V5QMCP27T|   20381037|B005S9EKCW|     922008804| 2015-08-31|\n",
            "|R2TOH2QKNK4IOC|   24852644|B00FC1ZCB4|     326560548| 2015-08-31|\n",
            "|R2XQG5NJ59UFMY|   15556113|B002ZG98Z0|     637495038| 2015-08-31|\n",
            "|R1N1KHBRR4ZTX3|    6132474|B00X8RONBO|     896602391| 2015-08-31|\n",
            "|R3OM9S0TCBP38K|   48049524|B000CEXFZG|     115883890| 2015-08-31|\n",
            "|R1W4S949ZRCTBW|    3282516|B00ID8H8EW|     977932459| 2015-08-31|\n",
            "|R18JL1NNQAZFV2|   51771179|B000TGJ8IU|     840084782| 2015-08-31|\n",
            "|R1LP6PR06OPYUX|   31816501|B00DPMPTDS|     262144920| 2015-08-31|\n",
            "| RZKBT035JA0UQ|   16164990|B00X797LUS|     883589001| 2015-08-31|\n",
            "|R253N5W74SM7N3|   33386989|B00C6MXB42|     734735137| 2015-08-31|\n",
            "|R2D5IFTFPHD3RN|   45486371|B000EZ9084|     821764517| 2015-08-31|\n",
            "|R1CECK3H1URK1G|   14006420|B000CEXFZG|     115883890| 2015-08-31|\n",
            "|R11MHQRE45204T|   23411619|B00KXEM6XM|     651533797| 2015-08-31|\n",
            "| RSX9F068J0GXJ|    3202332|B0036K9CM8|     231498541| 2015-08-31|\n",
            "|R1TUMFHZBBOWKL|   32012808|B00G3HOJZ6|     847624020| 2015-08-31|\n",
            "| R8IZ1G1TWGK0E|   36507765|B00V5E7YR2|     478422254| 2015-08-31|\n",
            "|R1CBN0585B7BI4|   13696097|B005BUA1JY|     700104332| 2015-08-31|\n",
            "|R2PJOAZ9I3D8O8|    2190805|B00YCY46VO|     710263340| 2015-08-31|\n",
            "+--------------+-----------+----------+--------------+-----------+\n",
            "only showing top 20 rows\n",
            "\n"
          ]
        }
      ],
      "source": [
        "review_df.show()"
      ]
    },
    {
      "cell_type": "code",
      "execution_count": 9,
      "metadata": {
        "colab": {
          "base_uri": "https://localhost:8080/"
        },
        "id": "Jn5LxxJ7es1v",
        "outputId": "c0dfe1b7-6d99-4cc3-f080-9dee83f52d59"
      },
      "outputs": [
        {
          "output_type": "execute_result",
          "data": {
            "text/plain": [
              "[('review_id', 'string'),\n",
              " ('customer_id', 'int'),\n",
              " ('product_id', 'string'),\n",
              " ('product_parent', 'int'),\n",
              " ('review_date', 'date')]"
            ]
          },
          "metadata": {},
          "execution_count": 9
        }
      ],
      "source": [
        "review_df.dtypes"
      ]
    },
    {
      "cell_type": "code",
      "execution_count": 10,
      "metadata": {
        "id": "iv9N9YbrfEXT"
      },
      "outputs": [],
      "source": [
        "# -- This table will contain only unique values\n",
        "# CREATE TABLE products (\n",
        "#   product_id TEXT PRIMARY KEY NOT NULL UNIQUE,\n",
        "#   product_title TEXT\n",
        "\n"
      ]
    },
    {
      "cell_type": "code",
      "execution_count": 11,
      "metadata": {
        "id": "DR9UiyesfRqo"
      },
      "outputs": [],
      "source": [
        "product_df=df.select([\"product_id\",\"product_title\"])"
      ]
    },
    {
      "cell_type": "code",
      "execution_count": 12,
      "metadata": {
        "id": "N88PDjfNf96h"
      },
      "outputs": [],
      "source": [
        "product_df=product_df.drop_duplicates()"
      ]
    },
    {
      "cell_type": "code",
      "execution_count": 13,
      "metadata": {
        "colab": {
          "base_uri": "https://localhost:8080/"
        },
        "id": "PovOZvQ9gL5t",
        "outputId": "9a3b1d48-c243-4620-8b62-7a59cb53dcd5"
      },
      "outputs": [
        {
          "output_type": "stream",
          "name": "stdout",
          "text": [
            "+----------+--------------------+\n",
            "|product_id|       product_title|\n",
            "+----------+--------------------+\n",
            "|B001DE29SS|Chaplin (15th Ann...|\n",
            "|B00ZJ2GL6G|Jurassic World 3D...|\n",
            "|B00T5DM876|Pretty Little Lia...|\n",
            "|B004VW4V76|         Lebanon, PA|\n",
            "|B009D4SFEC|Murdoch Mysteries...|\n",
            "|B000GG4Y5K|Numb3rs - The Com...|\n",
            "|B00383XZP8|TCM Spotlight: Ch...|\n",
            "|B00I9MS86O|Breaking Bad: The...|\n",
            "|B00005K3O4|Killer Klowns Fro...|\n",
            "|B00BD6KETC|     Psych: Season 7|\n",
            "|B00WHZZBTQ|Heaven Adores You...|\n",
            "|B000092Q5C|Remo Williams - T...|\n",
            "|B004AXPWH4|10 MINUTESOLUTION...|\n",
            "|B00FEP9PQG|Boardwalk Empire:...|\n",
            "|B0002F6BJW|Fractured Flicker...|\n",
            "|B0007LXP7W|The A-Team - Seas...|\n",
            "|B005ET4NHI|  Where The Boys Are|\n",
            "|B005EBOSO4|Muscle Energy Tec...|\n",
            "|B003V5CTKU|Black Label Socie...|\n",
            "|B000087F6L|      Fahrenheit 451|\n",
            "+----------+--------------------+\n",
            "only showing top 20 rows\n",
            "\n"
          ]
        }
      ],
      "source": [
        "product_df.show()"
      ]
    },
    {
      "cell_type": "code",
      "execution_count": 14,
      "metadata": {
        "id": "fzxHDnc0gYeA"
      },
      "outputs": [],
      "source": [
        "# CREATE TABLE customers (\n",
        "#   customer_id INT PRIMARY KEY NOT NULL UNIQUE,\n",
        "#   customer_count INT\n",
        "# );\n"
      ]
    },
    {
      "cell_type": "code",
      "execution_count": 15,
      "metadata": {
        "colab": {
          "base_uri": "https://localhost:8080/"
        },
        "id": "8j4IXHhzgkKO",
        "outputId": "a68598ed-112a-41fe-da87-8d7aacb80e2b"
      },
      "outputs": [
        {
          "output_type": "stream",
          "name": "stdout",
          "text": [
            "+-----------+--------------+\n",
            "|customer_id|customer_count|\n",
            "+-----------+--------------+\n",
            "|   24423656|             8|\n",
            "|   24297214|             1|\n",
            "|   12879980|             3|\n",
            "|     515450|             2|\n",
            "|   13313689|             1|\n",
            "|   15523729|             4|\n",
            "|    1673863|             1|\n",
            "|   14552054|             2|\n",
            "|   45392827|            14|\n",
            "|   44178035|             1|\n",
            "|   10522786|            10|\n",
            "|   44848424|             3|\n",
            "|   14230926|             1|\n",
            "|   49243158|           274|\n",
            "|   49084939|            10|\n",
            "|   28777148|            41|\n",
            "|   41836864|             1|\n",
            "|    5219946|             1|\n",
            "|   37795150|             1|\n",
            "|   52081222|             1|\n",
            "+-----------+--------------+\n",
            "only showing top 20 rows\n",
            "\n"
          ]
        }
      ],
      "source": [
        "customer_df=df.groupby(\"customer_id\").agg({\"customer_id\":\"count\"}).withColumnRenamed(\"count(customer_id)\",\"customer_count\")\n",
        "customer_df.show()"
      ]
    },
    {
      "cell_type": "code",
      "execution_count": 16,
      "metadata": {
        "id": "5zyUI5hdUDYF"
      },
      "outputs": [],
      "source": [
        "# -- vine table\n",
        "# CREATE TABLE vine_table (\n",
        "#   review_id TEXT PRIMARY KEY,\n",
        "#   star_rating INTEGER,\n",
        "#   helpful_votes INTEGER,\n",
        "#   total_votes INTEGER,\n",
        "#   vine TEXT\n",
        "# );\n"
      ]
    },
    {
      "cell_type": "code",
      "execution_count": 17,
      "metadata": {
        "colab": {
          "base_uri": "https://localhost:8080/"
        },
        "id": "LLjTlP8GUQJH",
        "outputId": "586d05ba-9207-4247-b64e-d1d0213f30f4"
      },
      "outputs": [
        {
          "output_type": "stream",
          "name": "stdout",
          "text": [
            "+--------------+-----------+-------------+-----------+----+\n",
            "|     review_id|star_rating|helpful_votes|total_votes|vine|\n",
            "+--------------+-----------+-------------+-----------+----+\n",
            "| R33UPQQUZQEM8|          5|            3|          3|   N|\n",
            "|R3IKTNQQPD9662|          5|            0|          0|   N|\n",
            "|R3U27V5QMCP27T|          5|            1|          1|   N|\n",
            "|R2TOH2QKNK4IOC|          5|            0|          1|   N|\n",
            "|R2XQG5NJ59UFMY|          5|            0|          0|   N|\n",
            "|R1N1KHBRR4ZTX3|          5|            0|          0|   N|\n",
            "|R3OM9S0TCBP38K|          5|            0|          0|   N|\n",
            "|R1W4S949ZRCTBW|          5|            0|          0|   N|\n",
            "|R18JL1NNQAZFV2|          5|            0|          0|   N|\n",
            "|R1LP6PR06OPYUX|          4|            0|          0|   N|\n",
            "| RZKBT035JA0UQ|          5|            1|          2|   N|\n",
            "|R253N5W74SM7N3|          4|            1|          1|   N|\n",
            "|R2D5IFTFPHD3RN|          4|            1|          1|   N|\n",
            "|R1CECK3H1URK1G|          5|            0|          0|   N|\n",
            "|R11MHQRE45204T|          5|            0|          0|   N|\n",
            "| RSX9F068J0GXJ|          5|            0|          0|   N|\n",
            "|R1TUMFHZBBOWKL|          5|            0|          0|   N|\n",
            "| R8IZ1G1TWGK0E|          5|            0|          0|   N|\n",
            "|R1CBN0585B7BI4|          5|            0|          1|   N|\n",
            "|R2PJOAZ9I3D8O8|          5|            2|          2|   N|\n",
            "+--------------+-----------+-------------+-----------+----+\n",
            "only showing top 20 rows\n",
            "\n"
          ]
        }
      ],
      "source": [
        "vine_df=df.select([\"review_id\",\"star_rating\",\"helpful_votes\",\"total_votes\", \"vine\"])\n",
        "vine_df.show()"
      ]
    },
    {
      "cell_type": "code",
      "execution_count": 18,
      "metadata": {
        "id": "onAdaH2xZhQb"
      },
      "outputs": [],
      "source": [
        "mode = \"append\"\n",
        "jdbc_url=\"jdbc:postgresql://#######.amazonaws.com:5432/vine_db\"\n",
        "config = {\"user\":\"####\", \"password\": \"#####\", \"driver\":\"org.postgresql.Driver\"}"
      ]
    },
    {
      "cell_type": "code",
      "execution_count": null,
      "metadata": {
        "id": "jXCXQ_PPaMk5"
      },
      "outputs": [],
      "source": [
        "vine_df.write.jdbc(url=jdbc_url, table='vine_table_2', mode=mode, properties=config)"
      ]
    },
    {
      "cell_type": "code",
      "execution_count": 20,
      "metadata": {
        "id": "2SUOn-rkbFht"
      },
      "outputs": [],
      "source": [
        "customer_df.write.jdbc(url=jdbc_url, table='customers_2', mode=mode, properties=config)"
      ]
    },
    {
      "cell_type": "code",
      "execution_count": 21,
      "metadata": {
        "id": "SCs5SKKcbc3r"
      },
      "outputs": [],
      "source": [
        "product_df.write.jdbc(url=jdbc_url, table='products_2', mode=mode, properties=config)"
      ]
    },
    {
      "cell_type": "code",
      "execution_count": null,
      "metadata": {
        "id": "XUfknZaWb40-"
      },
      "outputs": [],
      "source": [
        "review_df.write.jdbc(url=jdbc_url, table='review_id_table_2', mode=mode, properties=config)"
      ]
    }
  ],
  "metadata": {
    "colab": {
      "name": "Level 2 vid.ipynb",
      "provenance": [],
      "authorship_tag": "ABX9TyPqVhKgC8V8l4LZCaaRodbS",
      "include_colab_link": true
    },
    "kernelspec": {
      "display_name": "Python 3",
      "name": "python3"
    },
    "language_info": {
      "name": "python"
    }
  },
  "nbformat": 4,
  "nbformat_minor": 0
}